{
 "cells": [
  {
   "cell_type": "markdown",
   "metadata": {},
   "source": [
    "# Framework to break down CT CSVs\n",
    "--- \n",
    "\n",
    "## Clinical Trials Requirements\n",
    "\n",
    "- Phase 1, Phase 2, Phase 3"
   ]
  },
  {
   "cell_type": "markdown",
   "metadata": {},
   "source": [
    "Create repo\n",
    "push code\n",
    "work in branches "
   ]
  },
  {
   "cell_type": "markdown",
   "metadata": {},
   "source": [
    "## Key variables to examine \n",
    "\n",
    "**All data**\n",
    "\n",
    "Analyse completed phase 3 trials \n",
    "\n",
    "Analyse current Phase 3 trials \n",
    "\n",
    " - Distribution of enrollment across phases\n",
    " - Distribution of intervention types \n",
    " - Outcomes\n",
    " - Examination of completed trials "
   ]
  },
  {
   "cell_type": "code",
   "execution_count": 79,
   "metadata": {},
   "outputs": [],
   "source": [
    "import numpy as np\n",
    "import pandas as pd \n",
    "import seaborn as sns \n",
    "import matplotlib.pyplot as plt"
   ]
  },
  {
   "cell_type": "markdown",
   "metadata": {},
   "source": [
    "# Import CSV File "
   ]
  },
  {
   "cell_type": "code",
   "execution_count": 97,
   "metadata": {},
   "outputs": [],
   "source": [
    "def import_csv(filepath): \n",
    "    file = filepath\n",
    "    data = pd.read_csv(file, ',')\n",
    "    data = data.set_index('Rank')\n",
    "    return data\n",
    "\n",
    "## must assign data to variable \n",
    "\n",
    "# example \n",
    "data = import_csv('/Users/cameronsellers/code/sellerc97/data-challenges/Clinical Challenges/data/NASH_LIVER.csv')"
   ]
  },
  {
   "cell_type": "markdown",
   "metadata": {},
   "source": [
    "## Tidy columns \n",
    "---\n",
    "\n",
    "**Funded Bys** \n",
    "\n",
    "- Converts 'Other|Industry' into 'Industry|Other'.\n",
    "- Converts 'NIH|Industry' into 'Industry|NIH'\n",
    "\n",
    "**Phases** \n",
    "\n",
    "- Convets any mixed Phases into ascendign numerical order (eg Phase 2|Phase 1 becomes Phase 1|Phase 2) \n",
    "\n",
    "**DateTime** \n",
    "\n",
    "- Converts all time columns into DateTime \n",
    "\n"
   ]
  },
  {
   "cell_type": "code",
   "execution_count": 11,
   "metadata": {},
   "outputs": [],
   "source": [
    "def clean(data): \n",
    "\n",
    "            # Funded Bys \n",
    "            data = data.replace('Other|Industry', 'Industry|Other').replace('NIH|Other', 'NIH').replace('Other|NIH', 'NIH')\n",
    "\n",
    "            # Phase clean \n",
    "            data = data.replace('Phase 2|Phase 1', 'Phase 1|Phase 2').replace('Phase 3|Phase 2', 'Phase 2|Phase 3')\n",
    "\n",
    "            # DateTime conversion\n",
    "            dates = ['Start Date', 'Primary Completion', 'Completion Date', 'Study Completion' \\\n",
    "                    'First Posted', 'Last Update Posted', 'Results First Posted']\n",
    "\n",
    "            for d in dates:\n",
    "                if d in data.columns: \n",
    "                    data[d] = pd.to_datetime(data[d])\n",
    "\n",
    "            return data \n",
    "\n",
    "data = clean(data)"
   ]
  },
  {
   "cell_type": "markdown",
   "metadata": {},
   "source": [
    "# Break by Phases\n",
    "\n",
    "- Not exclusive catergories! \n",
    "- If trial listed as \"Phase 1 | Phase 2\" this code will take the same trial twice into \"Phase_1\" and \"Phase_2\""
   ]
  },
  {
   "cell_type": "code",
   "execution_count": 66,
   "metadata": {},
   "outputs": [],
   "source": [
    "## Currently Phase 1/2 placed into Phase 2 columns, Phase 2/3 placed into Phase 3 columns etc. \n",
    "\n",
    "def Phase_extract(data, Phase=None): \n",
    "    \n",
    "    if Phase == 1:\n",
    "\n",
    "        Phase_1 = data['Phases'].str.endswith('Phase 1')\n",
    "        Phase_1 = data[Phase_1].set_index('Rank')\n",
    "        return Phase_1\n",
    "    \n",
    "    elif Phase == 2:\n",
    "\n",
    "        Phase_2 = data['Phases'].str.endswith('Phase 2')\n",
    "        Phase_2 = data[Phase_2].set_index('Rank')\n",
    "        return Phase_2\n",
    "    \n",
    "    elif Phase == 3:\n",
    "        \n",
    "        Phase_3 = data['Phases'].str.endswith('Phase 3')\n",
    "        Phase_3 = data[Phase_3].set_index('Rank')\n",
    "        return Phase_3\n",
    "    \n",
    "    elif Phase == 4: \n",
    "        Phase_4 = data['Phases'].str.contains('Phase 4')\n",
    "        Phase_4 = data[Phase_4].set_index('Rank')\n",
    "        return Phase_4\n",
    "    \n",
    "    else:\n",
    "        return Phase_1, Phase_2, Phase_3, Phase_4\n",
    "    \n",
    "\n",
    "Phase_1 = Phase_split(data, 1)\n",
    "Phase_2 = Phase_split(data, 2)\n",
    "Phase_3 = Phase_split(data, 3)\n",
    "Phase_4 = Phase_split(data, 4)"
   ]
  },
  {
   "cell_type": "markdown",
   "metadata": {},
   "source": [
    "## Plot trials by Phase\n",
    "\n",
    "Returns pie chart of trials by Phase\n",
    "\n",
    "- Enter the highest phase number in data set\n",
    "- eg to plot Phases 1-3, enter phase_pie(3) - Phase 4 data will be excluded. \n"
   ]
  },
  {
   "cell_type": "code",
   "execution_count": 68,
   "metadata": {},
   "outputs": [
    {
     "data": {
      "text/plain": [
       "([<matplotlib.patches.Wedge at 0x11b63e5d0>,\n",
       "  <matplotlib.patches.Wedge at 0x11b63ef90>,\n",
       "  <matplotlib.patches.Wedge at 0x11b648b50>],\n",
       " [Text(-0.5142301410357144, 0.9724028805234944, 'Phase 1'),\n",
       "  Text(-0.5723703965036796, -0.9393572958178483, 'Phase 2'),\n",
       "  Text(0.9451095063617202, 0.5628214823411646, 'Phase 3')],\n",
       " [Text(-0.28048916783766237, 0.5304015711946333, '15.5%'),\n",
       "  Text(-0.3122020344565525, -0.5123767068097355, '51.6%'),\n",
       "  Text(0.5155142761973018, 0.30699353582245337, '32.9%')])"
      ]
     },
     "execution_count": 68,
     "metadata": {},
     "output_type": "execute_result"
    },
    {
     "data": {
      "image/png": "[encoded data removed]",
      "text/plain": [
       "<Figure size 432x216 with 1 Axes>"
      ]
     },
     "metadata": {},
     "output_type": "display_data"
    }
   ],
   "source": [
    "def phase_pie(Phases): \n",
    "    fig, ax = plt.subplots(figsize=(6, 3), subplot_kw=dict(aspect=\"equal\"))\n",
    "    Z = [len(Phase_1), len(Phase_2), len(Phase_3), len(Phase_4)]\n",
    "    L = ['Phase 1', 'Phase 2', 'Phase 3', 'Phase 4']\n",
    "    pie_data = Z[0:Phases]\n",
    "    labels = L[0:Phases]\n",
    "    pie = ax.pie(pie_data, labels=labels, shadow=True,\\\n",
    "                     startangle=90, autopct='%1.1f%%')\n",
    "    \n",
    "    ax.set_title(\"Trials by Phase\")\n",
    "    #ax.legend(Phases, Phases),title=\"Phases\",loc=\"center left\",bbox_to_anchor=(1, 0, 0.5, 1)\n",
    "     \n",
    "    return pie\n",
    "\n",
    "phase_pie(3)"
   ]
  },
  {
   "cell_type": "markdown",
   "metadata": {},
   "source": [
    "# Isolate trials by completed or ongoing \n",
    "\n",
    "- Takes 'completed' trials to be Status \"Completed, Terminated, Withdrawn or Suspended\" \n",
    "- Takes 'ongoing' trials to mean \"Not yet Recruiting, Recruiting, Active not recruting\" "
   ]
  },
  {
   "cell_type": "code",
   "execution_count": 16,
   "metadata": {},
   "outputs": [],
   "source": [
    "## Isolate active and finished trials using a Boolean Mask \n",
    "\n",
    "def active_or_complete(data): \n",
    "    complete = data[(data['Status'].str.contains('Completed')) | (data['Status'].str.contains('Terminated')) | (data['Status'].str.contains('Withdrawn')) | (data['Status'].str.contains('Suspended'))]\n",
    "    complete = \"complete_{}\".format(data)\n",
    "    ongoing = data[(data['Status'].str.contains('Recruiting')) | (data['Status'].str.contains('Active, not recruiting')) | (data['Status'].str.contains('Not yet recruiting'))]\n",
    "    ongoing = \"ongoing_{}\".format(data)\n",
    "    return data\n",
    "\n",
    "aoc_all = active_or_complete(data)\n",
    "aoc_phase1 = active_or_complete(Phase_1)\n",
    "aoc_phase2 = active_or_complete(Phase_2)\n",
    "aoc_phase3 = active_or_complete(Phase_3)\n",
    "aoc_phase4 = active_or_complete(Phase_4)"
   ]
  },
  {
   "cell_type": "markdown",
   "metadata": {},
   "source": [
    "# Isolate by type of intervention\n",
    "\n",
    "- Insert keyword to find trials based on intervention. \n",
    "- Common keywords include:\n",
    "\n",
    "> Drug\n",
    "  \n",
    "> Biological \n",
    "\n",
    "> Supplement \n",
    "\n",
    "> Drug name "
   ]
  },
  {
   "cell_type": "code",
   "execution_count": 63,
   "metadata": {},
   "outputs": [],
   "source": [
    "def sort_intervention(data, keyword, keyword2=None):\n",
    "    if keyword2 == None:\n",
    "        intervention_trials = data[(data['Interventions'].str.contains('keyword'))]\n",
    "        return intervention_trials\n",
    "    else:\n",
    "        intervention_trials = data[(data['Interventions'].str.contains('keyword')) | (data['Interventions'].str.contains('keyword2'))]\n",
    "    return intervention_trials"
   ]
  },
  {
   "cell_type": "code",
   "execution_count": 6,
   "metadata": {},
   "outputs": [
    {
     "name": "stderr",
     "output_type": "stream",
     "text": [
      "/Users/cameronsellers/.pyenv/versions/3.7.7/envs/lewagon/lib/python3.7/site-packages/ipykernel_launcher.py:8: UserWarning: Boolean Series key will be reindexed to match DataFrame index.\n",
      "  \n",
      "/Users/cameronsellers/.pyenv/versions/3.7.7/envs/lewagon/lib/python3.7/site-packages/ipykernel_launcher.py:9: UserWarning: Boolean Series key will be reindexed to match DataFrame index.\n",
      "  if __name__ == '__main__':\n"
     ]
    }
   ],
   "source": [
    "## Real example w Phase 3 data\n",
    "\n",
    "Phase_3_complete = Phase_3[(Phase_3['Status'].str.contains('Completed')) | (Phase_3['Status'].str.contains('Terminated')) | (Phase_3['Status'].str.contains('Withdrawn')) | (Phase_3['Status'].str.contains('Suspended'))]\n",
    "Phase_3_ongoing = Phase_3[(Phase_3['Status'].str.contains('Recruiting')) | (Phase_3['Status'].str.contains('Active, not recruiting')) | (Phase_3['Status'].str.contains('Not yet recruiting'))]\n",
    "\n",
    "## Isolate Drug Interventions by searching for Drug and Biological labels \n",
    "\n",
    "Phase_3_complete = Phase_3_complete[(Phase_3['Interventions'].str.contains('Drug:')) | (Phase_3['Interventions'].str.contains('Biological:'))]\n",
    "Phase_3_ongoing = Phase_3_ongoing[(Phase_3['Interventions'].str.contains('Drug:')) | (Phase_3['Interventions'].str.contains('Biological:'))]\n"
   ]
  },
  {
   "cell_type": "markdown",
   "metadata": {},
   "source": [
    "**Analysis of ongoing/prospective drug trials** \n",
    "\n",
    "- Intervention types\n",
    "- Outcomes measured"
   ]
  },
  {
   "cell_type": "code",
   "execution_count": 98,
   "metadata": {},
   "outputs": [
    {
     "data": {
      "image/png": "[encoded data removed]",
      "text/plain": [
       "<Figure size 432x288 with 1 Axes>"
      ]
     },
     "metadata": {
      "needs_background": "light"
     },
     "output_type": "display_data"
    }
   ],
   "source": [
    "#cmap = sns.cubehelix_palette(rot=-.2, as_cmap=True)\n",
    "\n",
    "ax = sns.scatterplot(x=\"Phases\", y=\"Enrollment\",\n",
    "                     hue='Funded Bys',\n",
    "                     sizes=(10, 200),\n",
    "                     data=data)"
   ]
  },
  {
   "cell_type": "code",
   "execution_count": 8,
   "metadata": {},
   "outputs": [],
   "source": [
    "## Convert dates to datetime \n",
    "\n",
    "Phase_3_complete['Start Date'] = pd.to_datetime(Phase_3_complete['Start Date'])\n",
    "Phase_3_complete['Completion Date'] = pd.to_datetime(Phase_3_complete['Completion Date'])\n"
   ]
  },
  {
   "cell_type": "markdown",
   "metadata": {},
   "source": [
    "## Dataset overview "
   ]
  },
  {
   "cell_type": "markdown",
   "metadata": {},
   "source": [
    "**Overview**\n",
    "\n",
    "- 155 trials \n",
    "\n",
    "**Enrollment**\n",
    "\n",
    "- Mean 203 patients. \n",
    "- Maxmimum 2480 patients \n",
    "\n",
    "**Phase 3** \n",
    "\n",
    "- Mean enrollment = 432 \n",
    "- Total trials = 51\n",
    "- Total drug trials = 41\n",
    "- Complete drug trials = 29 \n",
    "- Ongoing drug trials = 12\n",
    "\n",
    "**Phase 2** \n",
    "\n",
    "- Mean = 108\n",
    "\n",
    "**Phase 1** \n",
    "\n",
    "- Mean = 53"
   ]
  },
  {
   "cell_type": "code",
   "execution_count": null,
   "metadata": {},
   "outputs": [],
   "source": [
    "fig, axs = plt.subplots(nrows=1, ncols=3, figsize=(10,5))\n",
    "\n",
    "axs[0].bar(Phase_3['Phases'], Phase_3['Enrollment'])\n",
    "axs[1].bar(Phase_2['Phases'], Phase_2['Enrollment'])\n",
    "axs[2].bar(Phase_1['Phases'], Phase_1['Enrollment'])"
   ]
  }
 ],
 "metadata": {
  "kernelspec": {
   "display_name": "Python 3",
   "language": "python",
   "name": "python3"
  },
  "language_info": {
   "codemirror_mode": {
    "name": "ipython",
    "version": 3
   },
   "file_extension": ".py",
   "mimetype": "text/x-python",
   "name": "python",
   "nbconvert_exporter": "python",
   "pygments_lexer": "ipython3",
   "version": "3.7.7"
  }
 },
 "nbformat": 4,
 "nbformat_minor": 4
}
